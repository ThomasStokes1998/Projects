{
 "cells": [
  {
   "cell_type": "code",
   "execution_count": 1,
   "metadata": {},
   "outputs": [],
   "source": [
    "import pandas as pd\n",
    "import numpy as np\n",
    "import matplotlib.pyplot as plt\n",
    "import seaborn as sns"
   ]
  },
  {
   "cell_type": "code",
   "execution_count": 2,
   "metadata": {},
   "outputs": [
    {
     "data": {
      "text/html": [
       "<div>\n",
       "<style scoped>\n",
       "    .dataframe tbody tr th:only-of-type {\n",
       "        vertical-align: middle;\n",
       "    }\n",
       "\n",
       "    .dataframe tbody tr th {\n",
       "        vertical-align: top;\n",
       "    }\n",
       "\n",
       "    .dataframe thead th {\n",
       "        text-align: right;\n",
       "    }\n",
       "</style>\n",
       "<table border=\"1\" class=\"dataframe\">\n",
       "  <thead>\n",
       "    <tr style=\"text-align: right;\">\n",
       "      <th></th>\n",
       "      <th>wcaId</th>\n",
       "      <th>name</th>\n",
       "      <th>single</th>\n",
       "      <th>average</th>\n",
       "      <th>single_score</th>\n",
       "      <th>average_score</th>\n",
       "    </tr>\n",
       "  </thead>\n",
       "  <tbody>\n",
       "    <tr>\n",
       "      <th>0</th>\n",
       "      <td>2012PARK03</td>\n",
       "      <td>Max Park</td>\n",
       "      <td>231.02</td>\n",
       "      <td>253.13</td>\n",
       "      <td>97.24</td>\n",
       "      <td>97.09</td>\n",
       "    </tr>\n",
       "    <tr>\n",
       "      <th>1</th>\n",
       "      <td>2009ZEMD01</td>\n",
       "      <td>Feliks Zemdegs</td>\n",
       "      <td>253.09</td>\n",
       "      <td>274.49</td>\n",
       "      <td>96.09</td>\n",
       "      <td>96.04</td>\n",
       "    </tr>\n",
       "    <tr>\n",
       "      <th>2</th>\n",
       "      <td>2009HAYS01</td>\n",
       "      <td>Kevin Hays</td>\n",
       "      <td>262.03</td>\n",
       "      <td>296.07</td>\n",
       "      <td>95.54</td>\n",
       "      <td>94.74</td>\n",
       "    </tr>\n",
       "    <tr>\n",
       "      <th>3</th>\n",
       "      <td>2012BEAH01</td>\n",
       "      <td>Ciarán Beahan</td>\n",
       "      <td>262.14</td>\n",
       "      <td>284.12</td>\n",
       "      <td>95.54</td>\n",
       "      <td>95.49</td>\n",
       "    </tr>\n",
       "    <tr>\n",
       "      <th>4</th>\n",
       "      <td>2013NAHM01</td>\n",
       "      <td>Seung Hyuk</td>\n",
       "      <td>274.97</td>\n",
       "      <td>288.68</td>\n",
       "      <td>94.66</td>\n",
       "      <td>95.22</td>\n",
       "    </tr>\n",
       "  </tbody>\n",
       "</table>\n",
       "</div>"
      ],
      "text/plain": [
       "        wcaId            name  single  average  single_score  average_score\n",
       "0  2012PARK03        Max Park  231.02   253.13         97.24          97.09\n",
       "1  2009ZEMD01  Feliks Zemdegs  253.09   274.49         96.09          96.04\n",
       "2  2009HAYS01      Kevin Hays  262.03   296.07         95.54          94.74\n",
       "3  2012BEAH01   Ciarán Beahan  262.14   284.12         95.54          95.49\n",
       "4  2013NAHM01      Seung Hyuk  274.97   288.68         94.66          95.22"
      ]
     },
     "execution_count": 2,
     "metadata": {},
     "output_type": "execute_result"
    }
   ],
   "source": [
    "relay = pd.read_csv(r'c:\\Users\\thoma\\PycharmProjects\\UKCompData\\WCA_Relay.csv')\n",
    "relay = relay.drop(['rank'], axis=1)\n",
    "relay.head()"
   ]
  },
  {
   "cell_type": "code",
   "execution_count": 3,
   "metadata": {},
   "outputs": [],
   "source": [
    "persons = pd.read_csv(r'c:\\Users\\thoma\\PycharmProjects\\UKCompData\\WCA Database\\WCA_export_Persons.tsv', delimiter='\\t')\n",
    "countries = pd.read_csv(r'c:\\Users\\thoma\\PycharmProjects\\UKCompData\\WCA Database\\WCA_export_Countries.tsv', delimiter='\\t')"
   ]
  },
  {
   "cell_type": "code",
   "execution_count": 4,
   "metadata": {},
   "outputs": [
    {
     "name": "stdout",
     "output_type": "stream",
     "text": [
      "<class 'pandas.core.frame.DataFrame'>\n",
      "RangeIndex: 148870 entries, 0 to 148869\n",
      "Data columns (total 5 columns):\n",
      " #   Column     Non-Null Count   Dtype \n",
      "---  ------     --------------   ----- \n",
      " 0   id         148870 non-null  object\n",
      " 1   subid      148870 non-null  int64 \n",
      " 2   name       148870 non-null  object\n",
      " 3   countryId  148870 non-null  object\n",
      " 4   gender     148487 non-null  object\n",
      "dtypes: int64(1), object(4)\n",
      "memory usage: 3.4+ MB\n"
     ]
    }
   ],
   "source": [
    "persons.info()"
   ]
  },
  {
   "cell_type": "code",
   "execution_count": 5,
   "metadata": {},
   "outputs": [],
   "source": [
    "persons = persons.drop(['subid', 'gender'], axis=1)"
   ]
  },
  {
   "cell_type": "code",
   "execution_count": 6,
   "metadata": {},
   "outputs": [
    {
     "data": {
      "text/html": [
       "<div>\n",
       "<style scoped>\n",
       "    .dataframe tbody tr th:only-of-type {\n",
       "        vertical-align: middle;\n",
       "    }\n",
       "\n",
       "    .dataframe tbody tr th {\n",
       "        vertical-align: top;\n",
       "    }\n",
       "\n",
       "    .dataframe thead th {\n",
       "        text-align: right;\n",
       "    }\n",
       "</style>\n",
       "<table border=\"1\" class=\"dataframe\">\n",
       "  <thead>\n",
       "    <tr style=\"text-align: right;\">\n",
       "      <th></th>\n",
       "      <th>id</th>\n",
       "      <th>name</th>\n",
       "      <th>countryId</th>\n",
       "    </tr>\n",
       "  </thead>\n",
       "  <tbody>\n",
       "    <tr>\n",
       "      <th>0</th>\n",
       "      <td>1982BORS01</td>\n",
       "      <td>Jozsef Borsos</td>\n",
       "      <td>Serbia</td>\n",
       "    </tr>\n",
       "    <tr>\n",
       "      <th>1</th>\n",
       "      <td>1982BRIN01</td>\n",
       "      <td>Roland Brinkmann</td>\n",
       "      <td>Germany</td>\n",
       "    </tr>\n",
       "    <tr>\n",
       "      <th>2</th>\n",
       "      <td>1982CHIL01</td>\n",
       "      <td>Julian Chilvers</td>\n",
       "      <td>United Kingdom</td>\n",
       "    </tr>\n",
       "    <tr>\n",
       "      <th>3</th>\n",
       "      <td>1982FRID01</td>\n",
       "      <td>Jessica Fridrich</td>\n",
       "      <td>USA</td>\n",
       "    </tr>\n",
       "    <tr>\n",
       "      <th>4</th>\n",
       "      <td>1982FRID01</td>\n",
       "      <td>Jessica Fridrich</td>\n",
       "      <td>Czech Republic</td>\n",
       "    </tr>\n",
       "  </tbody>\n",
       "</table>\n",
       "</div>"
      ],
      "text/plain": [
       "           id              name       countryId\n",
       "0  1982BORS01     Jozsef Borsos          Serbia\n",
       "1  1982BRIN01  Roland Brinkmann         Germany\n",
       "2  1982CHIL01   Julian Chilvers  United Kingdom\n",
       "3  1982FRID01  Jessica Fridrich             USA\n",
       "4  1982FRID01  Jessica Fridrich  Czech Republic"
      ]
     },
     "execution_count": 6,
     "metadata": {},
     "output_type": "execute_result"
    }
   ],
   "source": [
    "persons.head()"
   ]
  },
  {
   "cell_type": "code",
   "execution_count": 7,
   "metadata": {},
   "outputs": [
    {
     "name": "stdout",
     "output_type": "stream",
     "text": [
      "<class 'pandas.core.frame.DataFrame'>\n",
      "RangeIndex: 207 entries, 0 to 206\n",
      "Data columns (total 4 columns):\n",
      " #   Column       Non-Null Count  Dtype \n",
      "---  ------       --------------  ----- \n",
      " 0   id           207 non-null    object\n",
      " 1   name         207 non-null    object\n",
      " 2   continentId  207 non-null    object\n",
      " 3   iso2         206 non-null    object\n",
      "dtypes: object(4)\n",
      "memory usage: 3.3+ KB\n"
     ]
    }
   ],
   "source": [
    "countries.info()"
   ]
  },
  {
   "cell_type": "code",
   "execution_count": 8,
   "metadata": {},
   "outputs": [],
   "source": [
    "countries = countries.drop(['iso2'], axis=1)"
   ]
  },
  {
   "cell_type": "code",
   "execution_count": 9,
   "metadata": {},
   "outputs": [],
   "source": [
    "def continent(cont):\n",
    "    cntnnt = []\n",
    "    for i in range(len(countries.id)):\n",
    "        if countries.continentId[i] == cont:\n",
    "            cntnnt.append(countries.id[i])\n",
    "    return cntnnt"
   ]
  },
  {
   "cell_type": "code",
   "execution_count": 10,
   "metadata": {},
   "outputs": [],
   "source": [
    "europe = continent('_Europe')"
   ]
  },
  {
   "cell_type": "code",
   "execution_count": 11,
   "metadata": {},
   "outputs": [
    {
     "data": {
      "text/plain": [
       "['Turkey', 'Ukraine', 'United Kingdom', 'Vatican City', 'XE']"
      ]
     },
     "execution_count": 11,
     "metadata": {},
     "output_type": "execute_result"
    }
   ],
   "source": [
    "europe[-5:]"
   ]
  },
  {
   "cell_type": "code",
   "execution_count": 12,
   "metadata": {},
   "outputs": [],
   "source": [
    "def country(nation):\n",
    "    wcaid = []\n",
    "    name = []\n",
    "    for i in range(len(persons.id)):\n",
    "        if persons.countryId[i] == nation:\n",
    "            wcaid.append(persons.id[i])\n",
    "            name.append(persons.name[i])\n",
    "    return wcaid, name"
   ]
  },
  {
   "cell_type": "code",
   "execution_count": 13,
   "metadata": {},
   "outputs": [],
   "source": [
    "UK_WCAID, UK_Name = country('United Kingdom')"
   ]
  },
  {
   "cell_type": "code",
   "execution_count": 14,
   "metadata": {},
   "outputs": [],
   "source": [
    "def score(column):\n",
    "    norm_col = np.log1p(column)\n",
    "    mean = np.mean(norm_col)\n",
    "    std = np.std(norm_col)\n",
    "    z_col = [(x-mean)/std for x in norm_col]\n",
    "    points = [round(100/(1+np.exp(z)), 2) for z in z_col]\n",
    "    return points"
   ]
  },
  {
   "cell_type": "code",
   "execution_count": 15,
   "metadata": {},
   "outputs": [],
   "source": [
    "def country_relay(state, s=False, a=False):\n",
    "    if state[0] == '_':\n",
    "        wcaid = []\n",
    "        n = []\n",
    "        for nation in continent(state):\n",
    "            w, m = country(nation)\n",
    "            wcaid += w\n",
    "            n += m\n",
    "    else:\n",
    "        wcaid, n = country(state)\n",
    "        \n",
    "    Id = []\n",
    "    name = []\n",
    "    single = []\n",
    "    average = []\n",
    "    for i in range(len(relay.wcaId)):\n",
    "        if relay.wcaId[i] in wcaid:\n",
    "            Id.append(relay.wcaId[i])\n",
    "            name.append(relay.name[i])\n",
    "            single.append(relay.single[i])\n",
    "            average.append(relay.average[i])\n",
    "    single_score = score(single)\n",
    "    average_score = score(average)\n",
    "    df = pd.DataFrame({'rank_single':np.arange(1, len(Id)+1, 1) ,'wcaId':Id, 'name':name,\n",
    "                      'single':single, 'average':average, 'single_score':single_score,\n",
    "                      'average_score':average_score})\n",
    "    df = df.sort_values('average')\n",
    "    df['rank_average'] = np.arange(1, len(Id)+1, 1)\n",
    "    if s:\n",
    "        df = df[['rank_single', 'wcaId', 'name', 'single', 'single_score']].reset_index(drop='index')\n",
    "    if a:\n",
    "        df = df[['rank_average', 'wcaId', 'name', 'average', 'average_score']].reset_index(drop='index')\n",
    "    if not s and not a:\n",
    "        df = df[['rank_single', 'rank_average', 'wcaId', 'name', 'single', \n",
    "                 'average', 'single_score', 'average_score']].reset_index(drop='index')\n",
    "    return df"
   ]
  },
  {
   "cell_type": "code",
   "execution_count": 16,
   "metadata": {},
   "outputs": [
    {
     "data": {
      "text/html": [
       "<div>\n",
       "<style scoped>\n",
       "    .dataframe tbody tr th:only-of-type {\n",
       "        vertical-align: middle;\n",
       "    }\n",
       "\n",
       "    .dataframe tbody tr th {\n",
       "        vertical-align: top;\n",
       "    }\n",
       "\n",
       "    .dataframe thead th {\n",
       "        text-align: right;\n",
       "    }\n",
       "</style>\n",
       "<table border=\"1\" class=\"dataframe\">\n",
       "  <thead>\n",
       "    <tr style=\"text-align: right;\">\n",
       "      <th></th>\n",
       "      <th>rank_single</th>\n",
       "      <th>rank_average</th>\n",
       "      <th>wcaId</th>\n",
       "      <th>name</th>\n",
       "      <th>single</th>\n",
       "      <th>average</th>\n",
       "      <th>single_score</th>\n",
       "      <th>average_score</th>\n",
       "    </tr>\n",
       "  </thead>\n",
       "  <tbody>\n",
       "    <tr>\n",
       "      <th>0</th>\n",
       "      <td>1</td>\n",
       "      <td>1</td>\n",
       "      <td>2014JAYE01</td>\n",
       "      <td>Eli Jay</td>\n",
       "      <td>313.85</td>\n",
       "      <td>347.86</td>\n",
       "      <td>91.98</td>\n",
       "      <td>91.40</td>\n",
       "    </tr>\n",
       "    <tr>\n",
       "      <th>1</th>\n",
       "      <td>2</td>\n",
       "      <td>2</td>\n",
       "      <td>2009YAUR01</td>\n",
       "      <td>Robert Yau</td>\n",
       "      <td>338.84</td>\n",
       "      <td>368.89</td>\n",
       "      <td>89.16</td>\n",
       "      <td>89.17</td>\n",
       "    </tr>\n",
       "    <tr>\n",
       "      <th>2</th>\n",
       "      <td>4</td>\n",
       "      <td>3</td>\n",
       "      <td>2007VALL01</td>\n",
       "      <td>Breandan Vallance</td>\n",
       "      <td>360.83</td>\n",
       "      <td>394.41</td>\n",
       "      <td>86.22</td>\n",
       "      <td>86.03</td>\n",
       "    </tr>\n",
       "    <tr>\n",
       "      <th>3</th>\n",
       "      <td>5</td>\n",
       "      <td>4</td>\n",
       "      <td>2015JACK04</td>\n",
       "      <td>Sam Jacklin</td>\n",
       "      <td>363.32</td>\n",
       "      <td>400.83</td>\n",
       "      <td>85.87</td>\n",
       "      <td>85.16</td>\n",
       "    </tr>\n",
       "    <tr>\n",
       "      <th>4</th>\n",
       "      <td>3</td>\n",
       "      <td>5</td>\n",
       "      <td>2013MAHM02</td>\n",
       "      <td>Sameer Mahmood</td>\n",
       "      <td>359.80</td>\n",
       "      <td>401.18</td>\n",
       "      <td>86.37</td>\n",
       "      <td>85.11</td>\n",
       "    </tr>\n",
       "    <tr>\n",
       "      <th>5</th>\n",
       "      <td>7</td>\n",
       "      <td>6</td>\n",
       "      <td>2016EVAN06</td>\n",
       "      <td>Daniel Evans</td>\n",
       "      <td>378.73</td>\n",
       "      <td>407.23</td>\n",
       "      <td>83.53</td>\n",
       "      <td>84.27</td>\n",
       "    </tr>\n",
       "    <tr>\n",
       "      <th>6</th>\n",
       "      <td>6</td>\n",
       "      <td>7</td>\n",
       "      <td>2014SCHW02</td>\n",
       "      <td>Fabio Schwandt</td>\n",
       "      <td>375.77</td>\n",
       "      <td>409.36</td>\n",
       "      <td>84.00</td>\n",
       "      <td>83.96</td>\n",
       "    </tr>\n",
       "    <tr>\n",
       "      <th>7</th>\n",
       "      <td>10</td>\n",
       "      <td>8</td>\n",
       "      <td>2009SHEP01</td>\n",
       "      <td>Daniel Sheppard</td>\n",
       "      <td>386.86</td>\n",
       "      <td>415.28</td>\n",
       "      <td>82.23</td>\n",
       "      <td>83.10</td>\n",
       "    </tr>\n",
       "    <tr>\n",
       "      <th>8</th>\n",
       "      <td>12</td>\n",
       "      <td>9</td>\n",
       "      <td>2013SAVA01</td>\n",
       "      <td>Harry Savage</td>\n",
       "      <td>397.56</td>\n",
       "      <td>421.72</td>\n",
       "      <td>80.43</td>\n",
       "      <td>82.14</td>\n",
       "    </tr>\n",
       "    <tr>\n",
       "      <th>9</th>\n",
       "      <td>9</td>\n",
       "      <td>10</td>\n",
       "      <td>2015EWBA01</td>\n",
       "      <td>Joe Ewbank</td>\n",
       "      <td>386.46</td>\n",
       "      <td>422.95</td>\n",
       "      <td>82.29</td>\n",
       "      <td>81.95</td>\n",
       "    </tr>\n",
       "  </tbody>\n",
       "</table>\n",
       "</div>"
      ],
      "text/plain": [
       "   rank_single  rank_average       wcaId               name  single  average  \\\n",
       "0            1             1  2014JAYE01            Eli Jay  313.85   347.86   \n",
       "1            2             2  2009YAUR01         Robert Yau  338.84   368.89   \n",
       "2            4             3  2007VALL01  Breandan Vallance  360.83   394.41   \n",
       "3            5             4  2015JACK04        Sam Jacklin  363.32   400.83   \n",
       "4            3             5  2013MAHM02     Sameer Mahmood  359.80   401.18   \n",
       "5            7             6  2016EVAN06       Daniel Evans  378.73   407.23   \n",
       "6            6             7  2014SCHW02     Fabio Schwandt  375.77   409.36   \n",
       "7           10             8  2009SHEP01    Daniel Sheppard  386.86   415.28   \n",
       "8           12             9  2013SAVA01       Harry Savage  397.56   421.72   \n",
       "9            9            10  2015EWBA01         Joe Ewbank  386.46   422.95   \n",
       "\n",
       "   single_score  average_score  \n",
       "0         91.98          91.40  \n",
       "1         89.16          89.17  \n",
       "2         86.22          86.03  \n",
       "3         85.87          85.16  \n",
       "4         86.37          85.11  \n",
       "5         83.53          84.27  \n",
       "6         84.00          83.96  \n",
       "7         82.23          83.10  \n",
       "8         80.43          82.14  \n",
       "9         82.29          81.95  "
      ]
     },
     "execution_count": 16,
     "metadata": {},
     "output_type": "execute_result"
    }
   ],
   "source": [
    "UK_Relay = country_relay('United Kingdom')\n",
    "UK_Relay.head(10)"
   ]
  },
  {
   "cell_type": "code",
   "execution_count": 17,
   "metadata": {},
   "outputs": [
    {
     "data": {
      "text/html": [
       "<div>\n",
       "<style scoped>\n",
       "    .dataframe tbody tr th:only-of-type {\n",
       "        vertical-align: middle;\n",
       "    }\n",
       "\n",
       "    .dataframe tbody tr th {\n",
       "        vertical-align: top;\n",
       "    }\n",
       "\n",
       "    .dataframe thead th {\n",
       "        text-align: right;\n",
       "    }\n",
       "</style>\n",
       "<table border=\"1\" class=\"dataframe\">\n",
       "  <thead>\n",
       "    <tr style=\"text-align: right;\">\n",
       "      <th></th>\n",
       "      <th>rank_single</th>\n",
       "      <th>wcaId</th>\n",
       "      <th>name</th>\n",
       "      <th>single</th>\n",
       "      <th>single_score</th>\n",
       "    </tr>\n",
       "  </thead>\n",
       "  <tbody>\n",
       "    <tr>\n",
       "      <th>0</th>\n",
       "      <td>1</td>\n",
       "      <td>2014JAYE01</td>\n",
       "      <td>Eli Jay</td>\n",
       "      <td>313.85</td>\n",
       "      <td>91.98</td>\n",
       "    </tr>\n",
       "    <tr>\n",
       "      <th>1</th>\n",
       "      <td>2</td>\n",
       "      <td>2009YAUR01</td>\n",
       "      <td>Robert Yau</td>\n",
       "      <td>338.84</td>\n",
       "      <td>89.16</td>\n",
       "    </tr>\n",
       "    <tr>\n",
       "      <th>2</th>\n",
       "      <td>4</td>\n",
       "      <td>2007VALL01</td>\n",
       "      <td>Breandan Vallance</td>\n",
       "      <td>360.83</td>\n",
       "      <td>86.22</td>\n",
       "    </tr>\n",
       "    <tr>\n",
       "      <th>3</th>\n",
       "      <td>5</td>\n",
       "      <td>2015JACK04</td>\n",
       "      <td>Sam Jacklin</td>\n",
       "      <td>363.32</td>\n",
       "      <td>85.87</td>\n",
       "    </tr>\n",
       "    <tr>\n",
       "      <th>4</th>\n",
       "      <td>3</td>\n",
       "      <td>2013MAHM02</td>\n",
       "      <td>Sameer Mahmood</td>\n",
       "      <td>359.80</td>\n",
       "      <td>86.37</td>\n",
       "    </tr>\n",
       "    <tr>\n",
       "      <th>5</th>\n",
       "      <td>7</td>\n",
       "      <td>2016EVAN06</td>\n",
       "      <td>Daniel Evans</td>\n",
       "      <td>378.73</td>\n",
       "      <td>83.53</td>\n",
       "    </tr>\n",
       "    <tr>\n",
       "      <th>6</th>\n",
       "      <td>6</td>\n",
       "      <td>2014SCHW02</td>\n",
       "      <td>Fabio Schwandt</td>\n",
       "      <td>375.77</td>\n",
       "      <td>84.00</td>\n",
       "    </tr>\n",
       "    <tr>\n",
       "      <th>7</th>\n",
       "      <td>10</td>\n",
       "      <td>2009SHEP01</td>\n",
       "      <td>Daniel Sheppard</td>\n",
       "      <td>386.86</td>\n",
       "      <td>82.23</td>\n",
       "    </tr>\n",
       "    <tr>\n",
       "      <th>8</th>\n",
       "      <td>12</td>\n",
       "      <td>2013SAVA01</td>\n",
       "      <td>Harry Savage</td>\n",
       "      <td>397.56</td>\n",
       "      <td>80.43</td>\n",
       "    </tr>\n",
       "    <tr>\n",
       "      <th>9</th>\n",
       "      <td>9</td>\n",
       "      <td>2015EWBA01</td>\n",
       "      <td>Joe Ewbank</td>\n",
       "      <td>386.46</td>\n",
       "      <td>82.29</td>\n",
       "    </tr>\n",
       "  </tbody>\n",
       "</table>\n",
       "</div>"
      ],
      "text/plain": [
       "   rank_single       wcaId               name  single  single_score\n",
       "0            1  2014JAYE01            Eli Jay  313.85         91.98\n",
       "1            2  2009YAUR01         Robert Yau  338.84         89.16\n",
       "2            4  2007VALL01  Breandan Vallance  360.83         86.22\n",
       "3            5  2015JACK04        Sam Jacklin  363.32         85.87\n",
       "4            3  2013MAHM02     Sameer Mahmood  359.80         86.37\n",
       "5            7  2016EVAN06       Daniel Evans  378.73         83.53\n",
       "6            6  2014SCHW02     Fabio Schwandt  375.77         84.00\n",
       "7           10  2009SHEP01    Daniel Sheppard  386.86         82.23\n",
       "8           12  2013SAVA01       Harry Savage  397.56         80.43\n",
       "9            9  2015EWBA01         Joe Ewbank  386.46         82.29"
      ]
     },
     "execution_count": 17,
     "metadata": {},
     "output_type": "execute_result"
    }
   ],
   "source": [
    "UK_Relay = country_relay('United Kingdom', s=True)\n",
    "UK_Relay.head(10)"
   ]
  },
  {
   "cell_type": "code",
   "execution_count": 18,
   "metadata": {},
   "outputs": [
    {
     "data": {
      "image/png": "[encoded data removed]",
      "text/plain": [
       "<Figure size 432x288 with 1 Axes>"
      ]
     },
     "metadata": {},
     "output_type": "display_data"
    }
   ],
   "source": [
    "from scipy.stats import norm\n",
    "sns.set_style('darkgrid')\n",
    "sns.distplot(UK_Relay.single, fit=norm)\n",
    "plt.show()"
   ]
  },
  {
   "cell_type": "code",
   "execution_count": 19,
   "metadata": {},
   "outputs": [
    {
     "data": {
      "text/html": [
       "<div>\n",
       "<style scoped>\n",
       "    .dataframe tbody tr th:only-of-type {\n",
       "        vertical-align: middle;\n",
       "    }\n",
       "\n",
       "    .dataframe tbody tr th {\n",
       "        vertical-align: top;\n",
       "    }\n",
       "\n",
       "    .dataframe thead th {\n",
       "        text-align: right;\n",
       "    }\n",
       "</style>\n",
       "<table border=\"1\" class=\"dataframe\">\n",
       "  <thead>\n",
       "    <tr style=\"text-align: right;\">\n",
       "      <th></th>\n",
       "      <th>rank_average</th>\n",
       "      <th>wcaId</th>\n",
       "      <th>name</th>\n",
       "      <th>average</th>\n",
       "      <th>average_score</th>\n",
       "    </tr>\n",
       "  </thead>\n",
       "  <tbody>\n",
       "    <tr>\n",
       "      <th>0</th>\n",
       "      <td>1</td>\n",
       "      <td>2014JAYE01</td>\n",
       "      <td>Eli Jay</td>\n",
       "      <td>347.86</td>\n",
       "      <td>91.40</td>\n",
       "    </tr>\n",
       "    <tr>\n",
       "      <th>1</th>\n",
       "      <td>2</td>\n",
       "      <td>2009YAUR01</td>\n",
       "      <td>Robert Yau</td>\n",
       "      <td>368.89</td>\n",
       "      <td>89.17</td>\n",
       "    </tr>\n",
       "    <tr>\n",
       "      <th>2</th>\n",
       "      <td>3</td>\n",
       "      <td>2007VALL01</td>\n",
       "      <td>Breandan Vallance</td>\n",
       "      <td>394.41</td>\n",
       "      <td>86.03</td>\n",
       "    </tr>\n",
       "    <tr>\n",
       "      <th>3</th>\n",
       "      <td>4</td>\n",
       "      <td>2015JACK04</td>\n",
       "      <td>Sam Jacklin</td>\n",
       "      <td>400.83</td>\n",
       "      <td>85.16</td>\n",
       "    </tr>\n",
       "    <tr>\n",
       "      <th>4</th>\n",
       "      <td>5</td>\n",
       "      <td>2013MAHM02</td>\n",
       "      <td>Sameer Mahmood</td>\n",
       "      <td>401.18</td>\n",
       "      <td>85.11</td>\n",
       "    </tr>\n",
       "    <tr>\n",
       "      <th>5</th>\n",
       "      <td>6</td>\n",
       "      <td>2016EVAN06</td>\n",
       "      <td>Daniel Evans</td>\n",
       "      <td>407.23</td>\n",
       "      <td>84.27</td>\n",
       "    </tr>\n",
       "    <tr>\n",
       "      <th>6</th>\n",
       "      <td>7</td>\n",
       "      <td>2014SCHW02</td>\n",
       "      <td>Fabio Schwandt</td>\n",
       "      <td>409.36</td>\n",
       "      <td>83.96</td>\n",
       "    </tr>\n",
       "    <tr>\n",
       "      <th>7</th>\n",
       "      <td>8</td>\n",
       "      <td>2009SHEP01</td>\n",
       "      <td>Daniel Sheppard</td>\n",
       "      <td>415.28</td>\n",
       "      <td>83.10</td>\n",
       "    </tr>\n",
       "    <tr>\n",
       "      <th>8</th>\n",
       "      <td>9</td>\n",
       "      <td>2013SAVA01</td>\n",
       "      <td>Harry Savage</td>\n",
       "      <td>421.72</td>\n",
       "      <td>82.14</td>\n",
       "    </tr>\n",
       "    <tr>\n",
       "      <th>9</th>\n",
       "      <td>10</td>\n",
       "      <td>2015EWBA01</td>\n",
       "      <td>Joe Ewbank</td>\n",
       "      <td>422.95</td>\n",
       "      <td>81.95</td>\n",
       "    </tr>\n",
       "  </tbody>\n",
       "</table>\n",
       "</div>"
      ],
      "text/plain": [
       "   rank_average       wcaId               name  average  average_score\n",
       "0             1  2014JAYE01            Eli Jay   347.86          91.40\n",
       "1             2  2009YAUR01         Robert Yau   368.89          89.17\n",
       "2             3  2007VALL01  Breandan Vallance   394.41          86.03\n",
       "3             4  2015JACK04        Sam Jacklin   400.83          85.16\n",
       "4             5  2013MAHM02     Sameer Mahmood   401.18          85.11\n",
       "5             6  2016EVAN06       Daniel Evans   407.23          84.27\n",
       "6             7  2014SCHW02     Fabio Schwandt   409.36          83.96\n",
       "7             8  2009SHEP01    Daniel Sheppard   415.28          83.10\n",
       "8             9  2013SAVA01       Harry Savage   421.72          82.14\n",
       "9            10  2015EWBA01         Joe Ewbank   422.95          81.95"
      ]
     },
     "execution_count": 19,
     "metadata": {},
     "output_type": "execute_result"
    }
   ],
   "source": [
    "UK_Relay = country_relay('United Kingdom', a=True)\n",
    "UK_Relay.head(10)"
   ]
  },
  {
   "cell_type": "code",
   "execution_count": 20,
   "metadata": {},
   "outputs": [
    {
     "data": {
      "image/png": "[encoded data removed]",
      "text/plain": [
       "<Figure size 432x288 with 1 Axes>"
      ]
     },
     "metadata": {},
     "output_type": "display_data"
    }
   ],
   "source": [
    "from scipy.stats import norm\n",
    "sns.set_style('darkgrid')\n",
    "sns.distplot(UK_Relay.average, fit=norm, color='red')\n",
    "plt.show()"
   ]
  },
  {
   "cell_type": "code",
   "execution_count": 21,
   "metadata": {},
   "outputs": [
    {
     "data": {
      "image/png": "[encoded data removed]",
      "text/plain": [
       "<Figure size 432x288 with 1 Axes>"
      ]
     },
     "metadata": {},
     "output_type": "display_data"
    }
   ],
   "source": [
    "from scipy.stats import norm\n",
    "sns.set_style('darkgrid')\n",
    "EU_Relay = country_relay('_Europe')\n",
    "sns.distplot(EU_Relay.single, fit=norm)\n",
    "plt.show()"
   ]
  },
  {
   "cell_type": "code",
   "execution_count": 22,
   "metadata": {},
   "outputs": [
    {
     "data": {
      "image/png": "[encoded data removed]",
      "text/plain": [
       "<Figure size 432x288 with 1 Axes>"
      ]
     },
     "metadata": {},
     "output_type": "display_data"
    }
   ],
   "source": [
    "from scipy.stats import norm\n",
    "sns.set_style('darkgrid')\n",
    "sns.distplot(EU_Relay.average, fit=norm, color='red')\n",
    "plt.show()"
   ]
  }
 ],
 "metadata": {
  "kernelspec": {
   "display_name": "Python 3",
   "language": "python",
   "name": "python3"
  },
  "language_info": {
   "codemirror_mode": {
    "name": "ipython",
    "version": 3
   },
   "file_extension": ".py",
   "mimetype": "text/x-python",
   "name": "python",
   "nbconvert_exporter": "python",
   "pygments_lexer": "ipython3",
   "version": "3.8.5"
  }
 },
 "nbformat": 4,
 "nbformat_minor": 4
}
